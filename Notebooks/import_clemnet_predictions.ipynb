{
 "cells": [
  {
   "cell_type": "markdown",
   "id": "3a432ef0-31f9-45e6-a78a-70650da96186",
   "metadata": {},
   "source": [
    "# Import CLEMnet predictions\n",
    "---\n",
    "**Author**: Arent Kievits\n",
    "\n",
    "**Date**: 25 July 2022\n",
    "\n",
    "#### Overview\n",
    "Quickly imports CLEMnet fluorescence predictions to `render-ws`.\n",
    "\n",
    "As CLEMnet predicts fluorescence on CATMAID pngs, this assumes data is stored as\n",
    "\n",
    "Stack | Filepath\n",
    "- | -\n",
    "stack_name | `/{project}/{stack_name}/{section}/{row}_{col}_{zoom}.png`\n",
    "\n",
    "The code then outputs a `.tiff` of the full section and stack to be exported again for CATMAID\n",
    "\n",
    "Stack | Filepath\n",
    "- | -\n",
    "stack_name | `/.../{project}/{stack_name}/{sectionId}/prediction.tif`\n",
    "\n",
    "**Warning**:\n",
    "Check filepath tree carefully before executing."
   ]
  },
  {
   "cell_type": "code",
   "execution_count": 1,
   "id": "287effca-1748-43ad-81b8-ab698cb47f75",
   "metadata": {},
   "outputs": [],
   "source": [
    "from pathlib import Path\n",
    "import re\n",
    "import shutil\n",
    "from ruamel.yaml import YAML\n",
    "import os\n",
    "\n",
    "from tqdm.notebook import tqdm\n",
    "from bs4 import BeautifulSoup as Soup\n",
    "import numpy as np\n",
    "import pandas as pd\n",
    "from tifffile import TiffFile, TiffWriter\n",
    "import imageio as iio\n",
    "import matplotlib.pyplot as plt\n",
    "\n",
    "import renderapi\n",
    "import icatapi\n",
    "import fastemworkflow\n",
    "from renderapi.transform import AffineModel"
   ]
  },
  {
   "cell_type": "code",
   "execution_count": 2,
   "id": "aefd6265-5007-4f25-836d-dae0ce61503a",
   "metadata": {},
   "outputs": [],
   "source": [
    "# Indirectly enable autocomplete\n",
    "%config Completer.use_jedi = False\n",
    "\n",
    "# pandas display options\n",
    "pd.set_option('display.max_colwidth', 160)"
   ]
  },
  {
   "cell_type": "markdown",
   "id": "ba884cc7-840c-44a8-b4e1-29d452a14052",
   "metadata": {},
   "source": [
    "#### Connect to `render-ws`"
   ]
  },
  {
   "cell_type": "code",
   "execution_count": 3,
   "id": "9223f38c-480d-4390-8256-f452acd6c78c",
   "metadata": {},
   "outputs": [
    {
     "data": {
      "text/plain": [
       "{'host': 'http://sonic.tnw.tudelft.nl',\n",
       " 'port': 8080,\n",
       " 'owner': 'akievits',\n",
       " 'project': 'prototype_rat_pancreas',\n",
       " 'client_scripts': '/home/catmaid/render/render-ws-java-client/src/main/scripts',\n",
       " 'client_script': '/home/catmaid/render/render-ws-java-client/src/main/scripts/run_ws_client.sh',\n",
       " 'memGB': '2G'}"
      ]
     },
     "execution_count": 3,
     "metadata": {},
     "output_type": "execute_result"
    }
   ],
   "source": [
    "# render parameters\n",
    "owner = 'akievits'\n",
    "project = 'prototype_rat_pancreas'\n",
    "\n",
    "# Create a renderapi.connect.Render object\n",
    "render_connect_params = {\n",
    "    'host': 'sonic.tnw.tudelft.nl',\n",
    "    'port': 8080,\n",
    "    'owner': owner,\n",
    "    'project': project,\n",
    "    'client_scripts': '/home/catmaid/render/render-ws-java-client/src/main/scripts',\n",
    "    'memGB': '2G',\n",
    "}\n",
    "render = renderapi.connect(**render_connect_params)\n",
    "render.make_kwargs()"
   ]
  },
  {
   "cell_type": "markdown",
   "id": "e3786a1a-7627-4d34-97e2-ac51c38e3153",
   "metadata": {},
   "source": [
    "#### Import and export directories"
   ]
  },
  {
   "cell_type": "code",
   "execution_count": 4,
   "id": "914bf43b-329c-465d-9d61-458529f09fed",
   "metadata": {},
   "outputs": [
    {
     "name": "stdout",
     "output_type": "stream",
     "text": [
      "total 4\n",
      "drwxr-xr-x 2 akievits akievits 4096 Jul 25 15:05 0\n"
     ]
    }
   ],
   "source": [
    "# Import from\n",
    "dir_project = Path(f'/long_term_storage/{owner}/FAST-EM/{project}')\n",
    "dir_predictions = Path(f'/long_term_storage/{owner}/FAST-EM/{project}/hoechst_prediction')\n",
    "\n",
    "# Stack directory\n",
    "!ls -l $dir_predictions"
   ]
  },
  {
   "cell_type": "code",
   "execution_count": 5,
   "id": "bc172260-e237-4742-8824-415cc49e914f",
   "metadata": {},
   "outputs": [],
   "source": [
    "# Find section directories\n",
    "dir_sections = sorted([dir_ for dir_ in dir_predictions.iterdir() if dir_.is_dir()])\n",
    "d_sections = {i: f'S00{d.name}' for i, d in enumerate(dir_sections)}"
   ]
  },
  {
   "cell_type": "markdown",
   "id": "10f7f929-b188-431f-9c19-b015cbaee8cf",
   "metadata": {},
   "source": [
    "## 1) Create tile specifications\n",
    "---"
   ]
  },
  {
   "cell_type": "code",
   "execution_count": 6,
   "id": "efa31119-cc54-42cb-912f-48a16e062eef",
   "metadata": {},
   "outputs": [
    {
     "data": {
      "application/vnd.jupyter.widget-view+json": {
       "model_id": "7e654db3de4b4bcb886cd752eaffc652",
       "version_major": 2,
       "version_minor": 0
      },
      "text/plain": [
       "  0%|          | 0/1 [00:00<?, ?it/s]"
      ]
     },
     "metadata": {},
     "output_type": "display_data"
    },
    {
     "data": {
      "application/vnd.jupyter.widget-view+json": {
       "model_id": "",
       "version_major": 2,
       "version_minor": 0
      },
      "text/plain": [
       "  0%|          | 0/88 [00:00<?, ?it/s]"
      ]
     },
     "metadata": {},
     "output_type": "display_data"
    }
   ],
   "source": [
    "# Collect tile specifications\n",
    "tile_dicts = []\n",
    "\n",
    "# Loop through section directories\n",
    "for z, sectionId in tqdm(d_sections.items()):\n",
    "\n",
    "    # Loop through mipmap directories within each section\n",
    "    dir_section = dir_predictions / str(z)\n",
    "    for png in tqdm(list(dir_section.glob('*_*_0.png')),\n",
    "                           leave=False):\n",
    "        # Read png\n",
    "        fp = dir_section / png\n",
    "        # Infer row, col\n",
    "        row, col = [int(i) for i in re.findall(r'\\d+', fp.name)[:2]]\n",
    "        # Build up tile specification\n",
    "        ts = {}\n",
    "        ts['imageUrl'] = f\"https://sonic.tnw.tudelft.nl{fp.as_posix()}\"\n",
    "        ts['stack'] = dir_predictions.name\n",
    "        ts['sectionId'] = sectionId\n",
    "        ts['z'] = z\n",
    "        ts['tileId'] = f'S{z:03d}-{row:03d}x{col:03d}'\n",
    "        ts['width'] = 1024 # Standard\n",
    "        ts['height'] = 1024 \n",
    "        ts['imageRow'] = row\n",
    "        ts['imageCol'] = col\n",
    "        tile_dicts.append(ts)"
   ]
  },
  {
   "cell_type": "markdown",
   "id": "7c3357b3-1b23-4312-9b44-cbf1dddde437",
   "metadata": {
    "tags": []
   },
   "source": [
    "#### Create stack DataFrames"
   ]
  },
  {
   "cell_type": "code",
   "execution_count": 7,
   "id": "0a05053c-bcce-42dd-bddb-430232b7bcb8",
   "metadata": {},
   "outputs": [
    {
     "data": {
      "text/html": [
       "<div>\n",
       "<style scoped>\n",
       "    .dataframe tbody tr th:only-of-type {\n",
       "        vertical-align: middle;\n",
       "    }\n",
       "\n",
       "    .dataframe tbody tr th {\n",
       "        vertical-align: top;\n",
       "    }\n",
       "\n",
       "    .dataframe thead th {\n",
       "        text-align: right;\n",
       "    }\n",
       "</style>\n",
       "<table border=\"1\" class=\"dataframe\">\n",
       "  <thead>\n",
       "    <tr style=\"text-align: right;\">\n",
       "      <th></th>\n",
       "      <th></th>\n",
       "      <th>imageUrl</th>\n",
       "      <th>stack</th>\n",
       "      <th>sectionId</th>\n",
       "      <th>z</th>\n",
       "      <th>tileId</th>\n",
       "      <th>width</th>\n",
       "      <th>height</th>\n",
       "      <th>imageRow</th>\n",
       "      <th>imageCol</th>\n",
       "    </tr>\n",
       "    <tr>\n",
       "      <th>stack</th>\n",
       "      <th></th>\n",
       "      <th></th>\n",
       "      <th></th>\n",
       "      <th></th>\n",
       "      <th></th>\n",
       "      <th></th>\n",
       "      <th></th>\n",
       "      <th></th>\n",
       "      <th></th>\n",
       "      <th></th>\n",
       "    </tr>\n",
       "  </thead>\n",
       "  <tbody>\n",
       "    <tr>\n",
       "      <th rowspan=\"3\" valign=\"top\">hoechst_prediction</th>\n",
       "      <th>10</th>\n",
       "      <td>https://sonic.tnw.tudelft.nl/long_term_storage/akievits/FAST-EM/prototype_rat_pancreas/hoechst_prediction/0/18_9_0.png</td>\n",
       "      <td>hoechst_prediction</td>\n",
       "      <td>S000</td>\n",
       "      <td>0</td>\n",
       "      <td>S000-018x009</td>\n",
       "      <td>1024</td>\n",
       "      <td>1024</td>\n",
       "      <td>0</td>\n",
       "      <td>5</td>\n",
       "    </tr>\n",
       "    <tr>\n",
       "      <th>55</th>\n",
       "      <td>https://sonic.tnw.tudelft.nl/long_term_storage/akievits/FAST-EM/prototype_rat_pancreas/hoechst_prediction/0/23_10_0.png</td>\n",
       "      <td>hoechst_prediction</td>\n",
       "      <td>S000</td>\n",
       "      <td>0</td>\n",
       "      <td>S000-023x010</td>\n",
       "      <td>1024</td>\n",
       "      <td>1024</td>\n",
       "      <td>5</td>\n",
       "      <td>6</td>\n",
       "    </tr>\n",
       "    <tr>\n",
       "      <th>62</th>\n",
       "      <td>https://sonic.tnw.tudelft.nl/long_term_storage/akievits/FAST-EM/prototype_rat_pancreas/hoechst_prediction/0/23_6_0.png</td>\n",
       "      <td>hoechst_prediction</td>\n",
       "      <td>S000</td>\n",
       "      <td>0</td>\n",
       "      <td>S000-023x006</td>\n",
       "      <td>1024</td>\n",
       "      <td>1024</td>\n",
       "      <td>5</td>\n",
       "      <td>2</td>\n",
       "    </tr>\n",
       "  </tbody>\n",
       "</table>\n",
       "</div>"
      ],
      "text/plain": [
       "                                                                                                                                      imageUrl  \\\n",
       "stack                                                                                                                                            \n",
       "hoechst_prediction 10   https://sonic.tnw.tudelft.nl/long_term_storage/akievits/FAST-EM/prototype_rat_pancreas/hoechst_prediction/0/18_9_0.png   \n",
       "                   55  https://sonic.tnw.tudelft.nl/long_term_storage/akievits/FAST-EM/prototype_rat_pancreas/hoechst_prediction/0/23_10_0.png   \n",
       "                   62   https://sonic.tnw.tudelft.nl/long_term_storage/akievits/FAST-EM/prototype_rat_pancreas/hoechst_prediction/0/23_6_0.png   \n",
       "\n",
       "                                    stack sectionId  z        tileId  width  \\\n",
       "stack                                                                         \n",
       "hoechst_prediction 10  hoechst_prediction      S000  0  S000-018x009   1024   \n",
       "                   55  hoechst_prediction      S000  0  S000-023x010   1024   \n",
       "                   62  hoechst_prediction      S000  0  S000-023x006   1024   \n",
       "\n",
       "                       height  imageRow  imageCol  \n",
       "stack                                              \n",
       "hoechst_prediction 10    1024         0         5  \n",
       "                   55    1024         5         6  \n",
       "                   62    1024         5         2  "
      ]
     },
     "execution_count": 7,
     "metadata": {},
     "output_type": "execute_result"
    }
   ],
   "source": [
    "# Create DataFrame from list of tile specifications\n",
    "df_stacks = pd.DataFrame(tile_dicts)\n",
    "\n",
    "# 'Normalize' row and column numbers\n",
    "min_row = df_stacks['imageRow'].min()\n",
    "min_col = df_stacks['imageCol'].min()\n",
    "df_stacks['imageRow'] = df_stacks['imageRow'] - min_row\n",
    "df_stacks['imageCol'] = df_stacks['imageCol'] - min_col\n",
    "\n",
    "# Sneak peak\n",
    "df_stacks.groupby('stack')\\\n",
    "         .apply(lambda x: x.sample(3))"
   ]
  },
  {
   "cell_type": "markdown",
   "id": "05b9d53d-6eb7-41f7-8989-c83338bed19a",
   "metadata": {},
   "source": [
    "## 2) Output `predictions.tiff`"
   ]
  },
  {
   "cell_type": "code",
   "execution_count": 8,
   "id": "6641554f-a2ce-4b9d-9965-dc33de7af680",
   "metadata": {},
   "outputs": [],
   "source": [
    "import imageio as io\n",
    "from skimage import transform\n",
    "import math"
   ]
  },
  {
   "cell_type": "code",
   "execution_count": 9,
   "id": "cfed3bdb-1c00-441d-a692-04c51af2ce5e",
   "metadata": {},
   "outputs": [
    {
     "data": {
      "application/vnd.jupyter.widget-view+json": {
       "model_id": "",
       "version_major": 2,
       "version_minor": 0
      },
      "text/plain": [
       "  0%|          | 0/1 [00:00<?, ?it/s]"
      ]
     },
     "metadata": {},
     "output_type": "display_data"
    },
    {
     "data": {
      "application/vnd.jupyter.widget-view+json": {
       "model_id": "66f4cd1d7af242acb53f113f581168ad",
       "version_major": 2,
       "version_minor": 0
      },
      "text/plain": [
       "  0%|          | 0/88 [00:00<?, ?it/s]"
      ]
     },
     "metadata": {},
     "output_type": "display_data"
    }
   ],
   "source": [
    "nrows = df_stacks['imageRow'].unique().size\n",
    "ncols = df_stacks['imageCol'].unique().size\n",
    "z_values = df_stacks['z'].unique().tolist()\n",
    "\n",
    "# Loop through sections\n",
    "for z, tileset in tqdm(df_stacks.groupby('z'),\n",
    "                       total=len(z_values),\n",
    "                       leave=False):\n",
    "    \n",
    "    # Intialize array for big tiff\n",
    "    predictions = np.zeros((1024*nrows, 1024*ncols))\n",
    "    \n",
    "    # Loop through tiles\n",
    "    for i, tile in tqdm(tileset.iterrows(), total=len(tileset)):\n",
    "        \n",
    "        # Fill array with values from image\n",
    "        image = io.v2.imread(tile['imageUrl'].split('.nl')[1])\n",
    "        row_id = tile['imageRow']*ts['height']\n",
    "        col_id = tile['imageCol']*ts['width']\n",
    "        predictions[row_id:(row_id+1024),col_id:(col_id+1024)] = image\n",
    "    \n",
    "    # Create output directory\n",
    "    dir_out = dir_project / f\"{tile['stack']}_tif\" / tile['sectionId']\n",
    "    dir_out.mkdir(parents=True, exist_ok=True)\n",
    "    \n",
    "    # Downsample to 160 nm/pixel\n",
    "    predictions = predictions.astype('uint16')\n",
    "    # height, width = predictions.shape\n",
    "    # predictions_resize = transform.resize(predictions, output_shape=(math.ceil(height/40), math.ceil(width/40)))\n",
    "    \n",
    "    # Write big tiff\n",
    "    fp_tif = dir_out / f\"{tile['z']}.tif\"\n",
    "    with TiffWriter(fp_tif.as_posix()) as tif:\n",
    "            tif.write(predictions)   "
   ]
  },
  {
   "cell_type": "code",
   "execution_count": 10,
   "id": "5cdf8f7b-d0b0-49ae-80eb-7266572c46fa",
   "metadata": {},
   "outputs": [
    {
     "data": {
      "text/plain": [
       "PosixPath('/long_term_storage/akievits/FAST-EM/prototype_rat_pancreas/hoechst_prediction_tif/S000')"
      ]
     },
     "execution_count": 10,
     "metadata": {},
     "output_type": "execute_result"
    }
   ],
   "source": [
    "dir_out"
   ]
  },
  {
   "cell_type": "code",
   "execution_count": 11,
   "id": "940f5d00-c858-4a6d-a751-d8339ff6668d",
   "metadata": {},
   "outputs": [
    {
     "data": {
      "text/plain": [
       "<matplotlib.image.AxesImage at 0x7f0ea19df700>"
      ]
     },
     "execution_count": 11,
     "metadata": {},
     "output_type": "execute_result"
    },
    {
     "data": {
      "image/png": "[encoded data removed]",
      "text/plain": [
       "<Figure size 432x288 with 1 Axes>"
      ]
     },
     "metadata": {
      "needs_background": "light"
     },
     "output_type": "display_data"
    }
   ],
   "source": [
    "plt.imshow(predictions) # May take a while to plot depending on dimensions"
   ]
  },
  {
   "cell_type": "code",
   "execution_count": 12,
   "id": "29d485bd-414e-4621-892c-a76e62e706a8",
   "metadata": {},
   "outputs": [],
   "source": [
    "# plt.imshow(predictions_resize) # May take a while to plot depending on dimensions"
   ]
  },
  {
   "cell_type": "markdown",
   "id": "572b45e6-3baf-4033-8fef-3b109e3dc905",
   "metadata": {},
   "source": [
    "## 3) Create specifications for `render-ws` stack\n",
    "---"
   ]
  },
  {
   "cell_type": "code",
   "execution_count": 18,
   "id": "abc74faa-1c2d-4e10-83b2-5e7cac1c2015",
   "metadata": {},
   "outputs": [
    {
     "data": {
      "application/vnd.jupyter.widget-view+json": {
       "model_id": "d0e54fc026714b318b60b2f9d6fa915a",
       "version_major": 2,
       "version_minor": 0
      },
      "text/plain": [
       "  0%|          | 0/1 [00:00<?, ?it/s]"
      ]
     },
     "metadata": {},
     "output_type": "display_data"
    },
    {
     "data": {
      "application/vnd.jupyter.widget-view+json": {
       "model_id": "",
       "version_major": 2,
       "version_minor": 0
      },
      "text/plain": [
       "  0%|          | 0/1 [00:00<?, ?it/s]"
      ]
     },
     "metadata": {},
     "output_type": "display_data"
    }
   ],
   "source": [
    "# Find section directories\n",
    "output_dir = dir_out.parent\n",
    "dir_sections = sorted([dir_ for dir_ in output_dir.iterdir() if dir_.is_dir()])\n",
    "d_sections = {i: d.name for i, d in enumerate(dir_sections)}\n",
    "\n",
    "# Collect tile specifications\n",
    "tile_dicts = []\n",
    "\n",
    "# Loop through section directories\n",
    "for z, sectionId in tqdm(d_sections.items()):\n",
    "\n",
    "    # Loop through mipmap directories within each section\n",
    "    dir_section = output_dir / str(sectionId)\n",
    "    for file in tqdm(list(dir_section.glob('*.tif')),\n",
    "                           leave=False):\n",
    "        # tif\n",
    "        fp = dir_section / file\n",
    "        tiff = TiffFile(fp)\n",
    "        image = tiff.asarray()\n",
    "        shape = image.shape\n",
    "        \n",
    "        # Build up tile specification\n",
    "        ts = {}\n",
    "        ts['imageUrl'] = f\"https://sonic.tnw.tudelft.nl{fp.as_posix()}\"\n",
    "        ts['stack'] = f'{dir_predictions.name}_tif'\n",
    "        ts['sectionId'] = sectionId\n",
    "        ts['z'] = z\n",
    "        ts['tileId'] = f'S{z:03d}-{row:03d}x{col:03d}'\n",
    "        ts['width'] = shape[1]\n",
    "        ts['height'] = shape[0] \n",
    "        ts['minint'] = 0\n",
    "        ts['maxint'] = 256\n",
    "        ts['imageRow'] = 0\n",
    "        ts['imageCol'] = 0\n",
    "        ts['tforms'] = [AffineModel(B0=min_col*1024, B1=min_row*1024)]\n",
    "        tile_dicts.append(ts)\n",
    "        \n",
    "        # TODO\n",
    "        # Currently, the translation of the stack has to be set manually in CATMAID (Tx = min_col * tile_size * stack_resolution, Ty = min_row * tile_size * stack_resolution)\n",
    "        # Find a way to set `tforms` automatically..."
   ]
  },
  {
   "cell_type": "code",
   "execution_count": 19,
   "id": "45db57c3-259c-4b3f-8e3f-e3687b524965",
   "metadata": {},
   "outputs": [
    {
     "data": {
      "text/html": [
       "<div>\n",
       "<style scoped>\n",
       "    .dataframe tbody tr th:only-of-type {\n",
       "        vertical-align: middle;\n",
       "    }\n",
       "\n",
       "    .dataframe tbody tr th {\n",
       "        vertical-align: top;\n",
       "    }\n",
       "\n",
       "    .dataframe thead th {\n",
       "        text-align: right;\n",
       "    }\n",
       "</style>\n",
       "<table border=\"1\" class=\"dataframe\">\n",
       "  <thead>\n",
       "    <tr style=\"text-align: right;\">\n",
       "      <th></th>\n",
       "      <th>imageUrl</th>\n",
       "      <th>stack</th>\n",
       "      <th>sectionId</th>\n",
       "      <th>z</th>\n",
       "      <th>tileId</th>\n",
       "      <th>width</th>\n",
       "      <th>height</th>\n",
       "      <th>minint</th>\n",
       "      <th>maxint</th>\n",
       "      <th>imageRow</th>\n",
       "      <th>imageCol</th>\n",
       "      <th>tforms</th>\n",
       "    </tr>\n",
       "  </thead>\n",
       "  <tbody>\n",
       "    <tr>\n",
       "      <th>0</th>\n",
       "      <td>https://sonic.tnw.tudelft.nl/long_term_storage/akievits/FAST-EM/prototype_rat_pancreas/hoechst_prediction_tif/S000/0.tif</td>\n",
       "      <td>hoechst_prediction_tif</td>\n",
       "      <td>S000</td>\n",
       "      <td>0</td>\n",
       "      <td>S000-025x009</td>\n",
       "      <td>11264</td>\n",
       "      <td>8192</td>\n",
       "      <td>0</td>\n",
       "      <td>256</td>\n",
       "      <td>0</td>\n",
       "      <td>0</td>\n",
       "      <td>[M=[[1.000000,0.000000],[0.000000,1.000000]] B=[4096.000000,18432.000000]]</td>\n",
       "    </tr>\n",
       "  </tbody>\n",
       "</table>\n",
       "</div>"
      ],
      "text/plain": [
       "                                                                                                                   imageUrl  \\\n",
       "0  https://sonic.tnw.tudelft.nl/long_term_storage/akievits/FAST-EM/prototype_rat_pancreas/hoechst_prediction_tif/S000/0.tif   \n",
       "\n",
       "                    stack sectionId  z        tileId  width  height  minint  \\\n",
       "0  hoechst_prediction_tif      S000  0  S000-025x009  11264    8192       0   \n",
       "\n",
       "   maxint  imageRow  imageCol  \\\n",
       "0     256         0         0   \n",
       "\n",
       "                                                                       tforms  \n",
       "0  [M=[[1.000000,0.000000],[0.000000,1.000000]] B=[4096.000000,18432.000000]]  "
      ]
     },
     "execution_count": 19,
     "metadata": {},
     "output_type": "execute_result"
    }
   ],
   "source": [
    "# Create DataFrame from list of tile specifications\n",
    "df_predictions = pd.DataFrame(tile_dicts)\n",
    "\n",
    "# Sneak peak\n",
    "df_predictions.groupby('stack')\\\n",
    "         .apply(lambda x: x.sample(1))"
   ]
  },
  {
   "cell_type": "markdown",
   "id": "75984a3c-19bb-4ad3-b44e-63b89cad7eb1",
   "metadata": {},
   "source": [
    "## 4) Upload stack to `render-ws`\n",
    "---"
   ]
  },
  {
   "cell_type": "code",
   "execution_count": 20,
   "id": "3716a75d-bc97-494d-8927-e9227ab6daa4",
   "metadata": {
    "tags": []
   },
   "outputs": [],
   "source": [
    "from renderapi.render import get_stacks_by_owner_project\n",
    "from renderapi.tilespec import TileSpec, get_tile_specs_from_stack\n",
    "from renderapi.stack import create_stack, set_stack_state\n",
    "from renderapi.client import import_tilespecs"
   ]
  },
  {
   "cell_type": "code",
   "execution_count": 21,
   "id": "c56b5ab6-92a2-4f85-b134-5206c5884897",
   "metadata": {},
   "outputs": [],
   "source": [
    "from icatapi.render_pandas import upload_stack_DataFrame"
   ]
  },
  {
   "cell_type": "code",
   "execution_count": 22,
   "id": "1ffa1844-fa71-41c4-abaf-ac3b2c770274",
   "metadata": {
    "tags": []
   },
   "outputs": [
    {
     "data": {
      "application/vnd.jupyter.widget-view+json": {
       "model_id": "1204d4427d864ed6bccf5ecf74a9b0a0",
       "version_major": 2,
       "version_minor": 0
      },
      "text/plain": [
       "  0%|          | 0/1 [00:00<?, ?it/s]"
      ]
     },
     "metadata": {},
     "output_type": "display_data"
    },
    {
     "name": "stdout",
     "output_type": "stream",
     "text": [
      "Creating tile specifications for \u001b[1mhoechst_prediction_tif\u001b[0m...\n",
      "Importing tile specifications to \u001b[1mhoechst_prediction_tif\u001b[0m...\n",
      "org.janelia.render.client.ImportJsonClient\n",
      "\n",
      "  Running: /home/catmaid/render/deploy/jdk1.8.0_131/bin/java -cp /home/catmaid/render/render-ws-java-client/target/render-ws-java-client-2.0.1-SNAPSHOT-standalone.jar -Xms2G -Xmx2G -Djava.awt.headless=true -XX:+UseSerialGC org.janelia.render.client.ImportJsonClient --baseDataUrl http://sonic.tnw.tudelft.nl:8080/render-ws/v1 --owner akievits --project prototype_rat_pancreas --stack hoechst_prediction_tif /tmp/tmp55uhtv5u.json\n",
      "\n",
      "\n",
      "09:40:10.468 [main] INFO  [org.janelia.render.client.ClientRunner] run: entry\n",
      "09:40:10.630 [main] INFO  [org.janelia.render.client.ImportJsonClient] runClient: entry, parameters={\n",
      "  \"renderWeb\" : {\n",
      "    \"baseDataUrl\" : \"http://sonic.tnw.tudelft.nl:8080/render-ws/v1\",\n",
      "    \"owner\" : \"akievits\",\n",
      "    \"project\" : \"prototype_rat_pancreas\"\n",
      "  },\n",
      "  \"tileSpecValidator\" : { },\n",
      "  \"stack\" : \"hoechst_prediction_tif\",\n",
      "  \"tileFiles\" : [\n",
      "    \"/tmp/tmp55uhtv5u.json\"\n",
      "  ]\n",
      "}\n",
      "09:40:10.917 [main] INFO  [org.janelia.render.client.RenderDataClient] getStackMetaData: submitting GET http://sonic.tnw.tudelft.nl:8080/render-ws/v1/owner/akievits/project/prototype_rat_pancreas/stack/hoechst_prediction_tif\n",
      "09:40:11.021 [main] INFO  [org.janelia.render.client.RenderDataClient] ensureStackIsInLoadingState: hoechst_prediction_tif stack is already in the LOADING state\n",
      "09:40:11.021 [main] INFO  [org.janelia.render.client.ImportJsonClient] loadTransformData: exit, loaded 0 transform specs\n",
      "09:40:11.021 [main] INFO  [org.janelia.render.client.ImportJsonClient] importStackData: entry, tileFile=/tmp/tmp55uhtv5u.json\n",
      "09:40:11.021 [main] INFO  [org.janelia.render.client.ImportJsonClient] loadTileData: entry, path=/tmp/tmp55uhtv5u.json\n",
      "09:40:11.054 [main] INFO  [org.janelia.render.client.ImportJsonClient] loadTileData: exit, loaded 1 tile specs\n",
      "09:40:11.065 [main] INFO  [org.janelia.render.client.ImportJsonClient] importStackData: derived bounding box for 1 tiles, elapsedSeconds=0\n",
      "09:40:11.088 [main] INFO  [org.janelia.render.client.RenderDataClient] saveResolvedTiles: submitting PUT http://sonic.tnw.tudelft.nl:8080/render-ws/v1/owner/akievits/project/prototype_rat_pancreas/stack/hoechst_prediction_tif/resolvedTiles for 0 transforms and 1 tiles\n",
      "09:40:11.096 [main] INFO  [org.janelia.render.client.ImportJsonClient] importStackData: exit, saved tiles and transforms from /tmp/tmp55uhtv5u.json\n",
      "09:40:11.096 [main] INFO  [org.janelia.render.client.ClientRunner] run: exit, processing completed in 0 hours, 0 minutes, 0 seconds\n",
      "Stack \u001b[1mhoechst_prediction_tif\u001b[0m created successfully.\n"
     ]
    }
   ],
   "source": [
    "# Loop through stacks\n",
    "for stack, df_stack in tqdm(df_predictions.groupby('stack')):\n",
    "\n",
    "    # Set stack resolution\n",
    "    Rx = 160\n",
    "    Ry = 160\n",
    "    Rz = 80\n",
    "\n",
    "    # Create stacks\n",
    "    upload_stack_DataFrame(df=df_stack,\n",
    "                           name=stack,\n",
    "                           stackResolutionX=Rx,\n",
    "                           stackResolutionY=Ry,\n",
    "                           stackResolutionZ=Rz,\n",
    "                           render=render)"
   ]
  }
 ],
 "metadata": {
  "kernelspec": {
   "display_name": "Python 3 (ipykernel)",
   "language": "python",
   "name": "python3"
  },
  "language_info": {
   "codemirror_mode": {
    "name": "ipython",
    "version": 3
   },
   "file_extension": ".py",
   "mimetype": "text/x-python",
   "name": "python",
   "nbconvert_exporter": "python",
   "pygments_lexer": "ipython3",
   "version": "3.9.13"
  }
 },
 "nbformat": 4,
 "nbformat_minor": 5
}
