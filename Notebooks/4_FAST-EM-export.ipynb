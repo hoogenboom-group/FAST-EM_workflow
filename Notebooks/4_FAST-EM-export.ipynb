{
 "cells": [
  {
   "cell_type": "markdown",
   "metadata": {},
   "source": [
    "# iCAT Export\n",
    "---\n",
    "\n",
    "#### Overview\n",
    "Export data in pyramidal png stacks for CATMAID."
   ]
  },
  {
   "cell_type": "code",
   "execution_count": 2,
   "metadata": {},
   "outputs": [],
   "source": [
    "from pathlib import Path\n",
    "from tqdm.notebook import tqdm\n",
    "\n",
    "import numpy as np\n",
    "import pandas as pd\n",
    "import matplotlib.pyplot as plt\n",
    "\n",
    "import renderapi\n",
    "import icatapi"
   ]
  },
  {
   "cell_type": "markdown",
   "metadata": {},
   "source": [
    "#### Settings"
   ]
  },
  {
   "cell_type": "code",
   "execution_count": 15,
   "metadata": {},
   "outputs": [],
   "source": [
    "# pandas display settings\n",
    "pd.set_option('display.max_rows', 20)\n",
    "pd.set_option('display.width', None)\n",
    "pd.set_option('display.max_colwidth', 15)\n",
    "\n",
    "# Indirectly enable autocomplete\n",
    "%config Completer.use_jedi = False\n",
    "\n",
    "# Write output to '/dev/stdout' instead of printing it to the notebook to avoid browser tab crashes\n",
    "import sys\n",
    "sys.stdout = open('/dev/stdout', 'w')"
   ]
  },
  {
   "cell_type": "markdown",
   "metadata": {},
   "source": [
    "## Set up `render-ws` environment\n",
    "---"
   ]
  },
  {
   "cell_type": "code",
   "execution_count": 16,
   "metadata": {},
   "outputs": [
    {
     "data": {
      "text/plain": [
       "{'host': 'http://sonic.tnw.tudelft.nl',\n",
       " 'port': 8080,\n",
       " 'owner': 'akievits',\n",
       " 'project': '20220601_UMCU',\n",
       " 'client_scripts': '/home/catmaid/render/render-ws-java-client/src/main/scripts',\n",
       " 'client_script': '/home/catmaid/render/render-ws-java-client/src/main/scripts/run_ws_client.sh',\n",
       " 'memGB': '2G'}"
      ]
     },
     "execution_count": 16,
     "metadata": {},
     "output_type": "execute_result"
    }
   ],
   "source": [
    "# `render` project parameters\n",
    "# ---------------------------\n",
    "owner = 'akievits'\n",
    "project = '20220601_UMCU'\n",
    "dir_project = Path(f'/long_term_storage/{owner}/FAST-EM/{project}/')\n",
    "dir_catmaid = Path(f'/long_term_storage/{owner}/CATMAID/projects/{project}/')\n",
    "\n",
    "# Create a renderapi.connect.Render object\n",
    "# ----------------------------------------\n",
    "render_connect_params = {\n",
    "    'host': 'sonic.tnw.tudelft.nl',\n",
    "    'port': 8080,\n",
    "    'owner': owner,\n",
    "    'project': project,\n",
    "    'client_scripts': '/home/catmaid/render/render-ws-java-client/src/main/scripts',\n",
    "    'memGB': '2G'\n",
    "}\n",
    "render = renderapi.connect(**render_connect_params)\n",
    "render.make_kwargs()"
   ]
  },
  {
   "cell_type": "code",
   "execution_count": 17,
   "metadata": {},
   "outputs": [
    {
     "data": {
      "text/html": [
       "<div>\n",
       "<style scoped>\n",
       "    .dataframe tbody tr th:only-of-type {\n",
       "        vertical-align: middle;\n",
       "    }\n",
       "\n",
       "    .dataframe tbody tr th {\n",
       "        vertical-align: top;\n",
       "    }\n",
       "\n",
       "    .dataframe thead th {\n",
       "        text-align: right;\n",
       "    }\n",
       "</style>\n",
       "<table border=\"1\" class=\"dataframe\">\n",
       "  <thead>\n",
       "    <tr style=\"text-align: right;\">\n",
       "      <th></th>\n",
       "      <th></th>\n",
       "      <th>tileId</th>\n",
       "      <th>z</th>\n",
       "      <th>width</th>\n",
       "      <th>height</th>\n",
       "      <th>minint</th>\n",
       "      <th>maxint</th>\n",
       "      <th>imagePyramid</th>\n",
       "      <th>tforms</th>\n",
       "      <th>stack</th>\n",
       "      <th>sectionId</th>\n",
       "      <th>imageRow</th>\n",
       "      <th>imageCol</th>\n",
       "    </tr>\n",
       "    <tr>\n",
       "      <th>stack</th>\n",
       "      <th></th>\n",
       "      <th></th>\n",
       "      <th></th>\n",
       "      <th></th>\n",
       "      <th></th>\n",
       "      <th></th>\n",
       "      <th></th>\n",
       "      <th></th>\n",
       "      <th></th>\n",
       "      <th></th>\n",
       "      <th></th>\n",
       "      <th></th>\n",
       "      <th></th>\n",
       "    </tr>\n",
       "  </thead>\n",
       "  <tbody>\n",
       "    <tr>\n",
       "      <th rowspan=\"5\" valign=\"top\">corrected_montaged</th>\n",
       "      <th>0</th>\n",
       "      <td>cor-S000-00...</td>\n",
       "      <td>0.0</td>\n",
       "      <td>6400.0</td>\n",
       "      <td>6400.0</td>\n",
       "      <td>28120.0</td>\n",
       "      <td>35585.0</td>\n",
       "      <td>[0, 1, 2, 3...</td>\n",
       "      <td>[M=[[1.0000...</td>\n",
       "      <td>corrected_m...</td>\n",
       "      <td>HM20_s001</td>\n",
       "      <td>0</td>\n",
       "      <td>0</td>\n",
       "    </tr>\n",
       "    <tr>\n",
       "      <th>1</th>\n",
       "      <td>cor-S000-00...</td>\n",
       "      <td>0.0</td>\n",
       "      <td>6400.0</td>\n",
       "      <td>6400.0</td>\n",
       "      <td>28120.0</td>\n",
       "      <td>35585.0</td>\n",
       "      <td>[0, 1, 2, 3...</td>\n",
       "      <td>[M=[[1.0000...</td>\n",
       "      <td>corrected_m...</td>\n",
       "      <td>HM20_s001</td>\n",
       "      <td>0</td>\n",
       "      <td>1</td>\n",
       "    </tr>\n",
       "    <tr>\n",
       "      <th>2</th>\n",
       "      <td>cor-S000-00...</td>\n",
       "      <td>0.0</td>\n",
       "      <td>6400.0</td>\n",
       "      <td>6400.0</td>\n",
       "      <td>28120.0</td>\n",
       "      <td>35585.0</td>\n",
       "      <td>[0, 1, 2, 3...</td>\n",
       "      <td>[M=[[1.0000...</td>\n",
       "      <td>corrected_m...</td>\n",
       "      <td>HM20_s001</td>\n",
       "      <td>0</td>\n",
       "      <td>2</td>\n",
       "    </tr>\n",
       "    <tr>\n",
       "      <th>3</th>\n",
       "      <td>cor-S000-00...</td>\n",
       "      <td>0.0</td>\n",
       "      <td>6400.0</td>\n",
       "      <td>6400.0</td>\n",
       "      <td>28120.0</td>\n",
       "      <td>35585.0</td>\n",
       "      <td>[0, 1, 2, 3...</td>\n",
       "      <td>[M=[[1.0000...</td>\n",
       "      <td>corrected_m...</td>\n",
       "      <td>HM20_s001</td>\n",
       "      <td>0</td>\n",
       "      <td>3</td>\n",
       "    </tr>\n",
       "    <tr>\n",
       "      <th>4</th>\n",
       "      <td>cor-S000-00...</td>\n",
       "      <td>0.0</td>\n",
       "      <td>6400.0</td>\n",
       "      <td>6400.0</td>\n",
       "      <td>28120.0</td>\n",
       "      <td>35585.0</td>\n",
       "      <td>[0, 1, 2, 3...</td>\n",
       "      <td>[M=[[1.0000...</td>\n",
       "      <td>corrected_m...</td>\n",
       "      <td>HM20_s001</td>\n",
       "      <td>0</td>\n",
       "      <td>4</td>\n",
       "    </tr>\n",
       "  </tbody>\n",
       "</table>\n",
       "</div>"
      ],
      "text/plain": [
       "                           tileId    z   width  height   minint   maxint  \\\n",
       "stack                                                                      \n",
       "corrected_mo... 0  cor-S000-00...  0.0  6400.0  6400.0  28120.0  35585.0   \n",
       "                1  cor-S000-00...  0.0  6400.0  6400.0  28120.0  35585.0   \n",
       "                2  cor-S000-00...  0.0  6400.0  6400.0  28120.0  35585.0   \n",
       "                3  cor-S000-00...  0.0  6400.0  6400.0  28120.0  35585.0   \n",
       "                4  cor-S000-00...  0.0  6400.0  6400.0  28120.0  35585.0   \n",
       "\n",
       "                     imagePyramid          tforms           stack  sectionId  \\\n",
       "stack                                                                          \n",
       "corrected_mo... 0  [0, 1, 2, 3...  [M=[[1.0000...  corrected_m...  HM20_s001   \n",
       "                1  [0, 1, 2, 3...  [M=[[1.0000...  corrected_m...  HM20_s001   \n",
       "                2  [0, 1, 2, 3...  [M=[[1.0000...  corrected_m...  HM20_s001   \n",
       "                3  [0, 1, 2, 3...  [M=[[1.0000...  corrected_m...  HM20_s001   \n",
       "                4  [0, 1, 2, 3...  [M=[[1.0000...  corrected_m...  HM20_s001   \n",
       "\n",
       "                   imageRow  imageCol  \n",
       "stack                                  \n",
       "corrected_mo... 0         0         0  \n",
       "                1         0         1  \n",
       "                2         0         2  \n",
       "                3         0         3  \n",
       "                4         0         4  "
      ]
     },
     "execution_count": 17,
     "metadata": {},
     "output_type": "execute_result"
    }
   ],
   "source": [
    "# Infer stack and section info\n",
    "# ----------------------------\n",
    "stacks = renderapi.render.get_stacks_by_owner_project(render=render)\n",
    "stacks_EM = [stack for stack in stacks]\n",
    "stacks_FM = []\n",
    "stacks_2_export = [\n",
    "    'corrected_montaged'\n",
    "]\n",
    "\n",
    "# Output\n",
    "# ------\n",
    "out = f\"\"\"\\\n",
    "project directory... {dir_project} | Exists: {dir_project.exists()}\n",
    "export directory.... {dir_catmaid} | Exists: {dir_catmaid.exists()}\n",
    "all stacks.......... {stacks}\n",
    "EM stacks........... {stacks_EM}\n",
    "FM stacks........... {stacks_FM}\n",
    "stacks to export.... {stacks_2_export}\n",
    "...\n",
    "\"\"\"\n",
    "print(out)\n",
    "\n",
    "# Create project DataFrame\n",
    "# ------------------------\n",
    "df_project = icatapi.create_stacks_DataFrame(stacks=stacks_2_export,\n",
    "                                             render=render)\n",
    "df_project.groupby('stack')\\\n",
    "          .apply(lambda x: x.head(5))"
   ]
  },
  {
   "cell_type": "markdown",
   "metadata": {},
   "source": [
    "## Export `render-ws` stacks to CATMAID\n",
    "---\n",
    "### Set up CATMAID export parameters"
   ]
  },
  {
   "cell_type": "code",
   "execution_count": 18,
   "metadata": {},
   "outputs": [],
   "source": [
    "from random import sample\n",
    "from renderapi.client import ArgumentParameters"
   ]
  },
  {
   "cell_type": "code",
   "execution_count": 19,
   "metadata": {},
   "outputs": [],
   "source": [
    "class CatmaidBoxesParameters(ArgumentParameters):\n",
    "    \"\"\"Subclass of `ArgumentParameters` for facilitating CATMAID export client script\"\"\"\n",
    "    def __init__(self, stack, root_directory,\n",
    "                 height=1024, width=1024, fmt='png', max_level=0,\n",
    "                 host=None, port=None, baseurl=None,\n",
    "                 owner=None, project=None, render=None, **kwargs):\n",
    "\n",
    "        super(CatmaidBoxesParameters, self).__init__(**kwargs)\n",
    "\n",
    "        self.stack = stack\n",
    "        self.rootDirectory = root_directory\n",
    "        self.height = height\n",
    "        self.width = width\n",
    "        self.format = fmt\n",
    "        self.maxLevel = max_level\n",
    "\n",
    "        render_kwargs = render.make_kwargs()\n",
    "        host = render_kwargs.get('host')\n",
    "        port = render_kwargs.get('port')\n",
    "        self.baseDataUrl = renderapi.render.format_baseurl(host, port)\n",
    "        self.owner = render_kwargs.get('owner') if owner is None else owner\n",
    "        self.project = render_kwargs.get('project') if project is None else project"
   ]
  },
  {
   "cell_type": "markdown",
   "metadata": {},
   "source": [
    "#### Logic for maximum zoom level\n",
    "\n",
    "Ideally `max_level` is set such that\n",
    "\n",
    "\\begin{equation}\n",
    "\\left( \\frac{w_s}{w_t \\,\\, 2^m} \\right) < 1\n",
    "\\end{equation}\n",
    "\n",
    "where $m$ is `max_level`, $w_s$ is the width of the stack and $w_t$ is the width of each tile. Then\n",
    "\n",
    "\\begin{equation}\n",
    "m = \\textrm{ceil} \\left( \\log{\\frac{w_s}{w_t}} \\times \\frac{1}{\\log{2}} \\right)\n",
    "\\end{equation}"
   ]
  },
  {
   "cell_type": "code",
   "execution_count": 20,
   "metadata": {},
   "outputs": [
    {
     "name": "stderr",
     "output_type": "stream",
     "text": [
      "/tmp/ipykernel_3271929/4004888492.py:38: DeprecationWarning: Sampling from a set deprecated\n",
      "since Python 3.9 and will be removed in a subsequent version.\n",
      "  stack = sample(export_data.keys(), 1)[0]\n"
     ]
    },
    {
     "data": {
      "text/plain": [
       "['--stack',\n",
       " 'corrected_montaged',\n",
       " '--rootDirectory',\n",
       " '/long_term_storage/akievits/CATMAID/projects',\n",
       " '--height',\n",
       " '1024',\n",
       " '--width',\n",
       " '1024',\n",
       " '--format',\n",
       " 'png',\n",
       " '--maxLevel',\n",
       " '7',\n",
       " '--baseDataUrl',\n",
       " 'http://sonic.tnw.tudelft.nl:8080/render-ws/v1',\n",
       " '--owner',\n",
       " 'akievits',\n",
       " '--project',\n",
       " '20220601_UMCU']"
      ]
     },
     "execution_count": 20,
     "metadata": {},
     "output_type": "execute_result"
    }
   ],
   "source": [
    "# Initialize collection for export parameters\n",
    "export_data = {}\n",
    "# Update max level\n",
    "maxest_level = 0\n",
    "# Set format\n",
    "fmt = 'png'\n",
    "# Set CATMAID tile width/height\n",
    "w_tile = 1024\n",
    "h_tile = 1024\n",
    "\n",
    "# Iterate through stacks\n",
    "for stack, df_stack in df_project.groupby('stack'):\n",
    "\n",
    "    # Determine `max_level` such that the full section is in view when fully zoomed out\n",
    "\n",
    "    stack_bounds = renderapi.stack.get_stack_bounds(stack=stack,\n",
    "                                                    render=render)\n",
    "    w_stack = max(stack_bounds['maxX'] - stack_bounds['minX'],\n",
    "                  stack_bounds['maxY'] - stack_bounds['minY'])\n",
    "    max_level = int(np.ceil(np.log(w_stack / w_tile) * 1/np.log(2)))\n",
    "    # Export each stack to highest level in the project\n",
    "    maxest_level = max(max_level, maxest_level)\n",
    "\n",
    "    # Set parameters for export to CATMAID\n",
    "    export_params = CatmaidBoxesParameters(stack=stack,\n",
    "                                           root_directory=dir_catmaid.parent.as_posix(),\n",
    "                                           width=w_tile,\n",
    "                                           height=h_tile,\n",
    "                                           max_level=maxest_level,\n",
    "                                           fmt=fmt,\n",
    "                                           project=project,\n",
    "                                           render=render)\n",
    "\n",
    "    # Add CATMAID export parameters to collection\n",
    "    export_data[stack] = export_params\n",
    "\n",
    "# Preview\n",
    "stack = sample(export_data.keys(), 1)[0]\n",
    "list(export_data[stack].to_java_args())"
   ]
  },
  {
   "cell_type": "markdown",
   "metadata": {},
   "source": [
    "### Call render script\n",
    "`render_catmaid_boxes.sh`\n",
    "```sh\n",
    "Usage: java -cp <render-module>-standalone.jar\n",
    "      org.janelia.render.client.BoxClient [options] Z values for layers to\n",
    "      render\n",
    "  Options:\n",
    "  * --baseDataUrl\n",
    "      Base web service URL for data (e.g. http://host[:port]/render-ws/v1)\n",
    "    --binaryMask\n",
    "      use binary mask (e.g. for DMG data)\n",
    "      Default: false\n",
    "    --createIGrid\n",
    "      create an IGrid file\n",
    "      Default: false\n",
    "    --doFilter\n",
    "      Use ad hoc filter to support alignment\n",
    "      Default: false\n",
    "    --filterListName\n",
    "      Apply this filter list to all rendering (overrides doFilter option)\n",
    "    --forceGeneration\n",
    "      Regenerate boxes even if they already exist\n",
    "      Default: false\n",
    "    --format\n",
    "      Format for rendered boxes\n",
    "      Default: png\n",
    "  * --height\n",
    "      Height of each box\n",
    "    --help\n",
    "      Display this note\n",
    "    --label\n",
    "      Generate single color tile labels instead of actual tile images\n",
    "      Default: false\n",
    "    --maxLevel\n",
    "      Maximum mipmap level to generate\n",
    "      Default: 0\n",
    "    --maxOverviewWidthAndHeight\n",
    "      Max width and height of layer overview image (omit or set to zero to\n",
    "      disable overview generation)\n",
    "    --numberOfRenderGroups\n",
    "      Total number of parallel jobs being used to render this layer (omit if\n",
    "      only one job is being used)\n",
    "  * --owner\n",
    "      Stack owner\n",
    "  * --project\n",
    "      Stack project\n",
    "    --renderGroup\n",
    "      Index (1-n) that identifies portion of layer to render (omit if only one\n",
    "      job is being used)\n",
    "  * --rootDirectory\n",
    "      Root directory for rendered tiles (e.g.\n",
    "      /tier2/flyTEM/nobackup/rendered_boxes)\n",
    "    --skipInterpolation\n",
    "      skip interpolation (e.g. for DMG data)\n",
    "      Default: false\n",
    "  * --stack\n",
    "      Stack name\n",
    "  * --width\n",
    "      Width of each box\n",
    "```"
   ]
  },
  {
   "cell_type": "markdown",
   "metadata": {},
   "source": [
    "#### Wrapper for `render_catmaid_boxes` script for multiprocessing\n",
    "Multiprocessing is done across sections, so a process is created for each section."
   ]
  },
  {
   "cell_type": "code",
   "execution_count": 21,
   "metadata": {},
   "outputs": [],
   "source": [
    "def run_render_catmaid_boxes(z, client_script, java_args):\n",
    "    \"\"\"Wrapper for `render_catmaid_boxes` script to enable multiprocessing\"\"\"\n",
    "    p = subprocess.run([client_script.as_posix(), f'{z:.0f}'] + java_args)"
   ]
  },
  {
   "cell_type": "markdown",
   "metadata": {},
   "source": [
    "#### \\*\\****COMPUTATIONALLY EXPENSIVE*** \\**\n",
    "\n",
    "##### Run `render_catmaid_boxes` on `N_cores`\n",
    "\n",
    "`renderapi.client.WithPool` ends prematurely (after exporting one section).  \n",
    "Weirdly only happens with `lil_EM_montaged` stack..."
   ]
  },
  {
   "cell_type": "code",
   "execution_count": 22,
   "metadata": {},
   "outputs": [],
   "source": [
    "import subprocess\n",
    "from functools import partial\n",
    "from multiprocessing import Pool"
   ]
  },
  {
   "cell_type": "code",
   "execution_count": 23,
   "metadata": {},
   "outputs": [
    {
     "data": {
      "application/vnd.jupyter.widget-view+json": {
       "model_id": "68daf902537a401cadfbdfea92ba51f1",
       "version_major": 2,
       "version_minor": 0
      },
      "text/plain": [
       "  0%|          | 0/1 [00:00<?, ?it/s]"
      ]
     },
     "metadata": {},
     "output_type": "display_data"
    }
   ],
   "source": [
    "# Path to `render_catmaid_boxes` shell script\n",
    "fp_client = Path(render_connect_params['client_scripts']) / 'render_catmaid_boxes.sh'\n",
    "# Set number of cores for multiprocessing\n",
    "N_cores = min(15, df_project['z'].unique().size)\n",
    "# Get z values\n",
    "z_values = np.unique([renderapi.stack.get_z_values_for_stack(stack, render=render)\\\n",
    "                      for stack in stacks_2_export])\n",
    "\n",
    "# Iterate through stacks to export\n",
    "# for stack in tqdm(stacks_2_export):\n",
    "for stack in tqdm(stacks_2_export):\n",
    "\n",
    "    # Create java arguments from export parameters\n",
    "    java_args = list(export_data[stack].to_java_args())\n",
    "\n",
    "    # Set up `render_catmaid_boxes` client script\n",
    "    render_catmaid_boxes_partial = partial(run_render_catmaid_boxes,\n",
    "                                           client_script=fp_client,\n",
    "                                           java_args=java_args)\n",
    "\n",
    "    # Run `render_catmaid_boxes` across `N_cores`\n",
    "    with Pool(N_cores) as pool:\n",
    "        pool.map(render_catmaid_boxes_partial, z_values)"
   ]
  },
  {
   "cell_type": "markdown",
   "metadata": {},
   "source": [
    "## Set up tiles for import to CATMAID\n",
    "---\n",
    "### Resort CATMAID tiles\n",
    "By (unchangeable) default, `render_catmaid_boxes` exports tiles as\n",
    "\n",
    "`root directory` / `project` / `stack` / `width x height` / `zoomlevel` / `z` / `row` / `col.fmt`\n",
    "\n",
    "This is ok, but preferred format for importing to CATMAID is [tile source convention 1](https://catmaid.readthedocs.io/en/stable/tile_sources.html#tile-source-types) --- \"[File-based image stack](https://catmaid.readthedocs.io/en/stable/tile_sources.html#file-based-image-stack)\"\n",
    "\n",
    "`root directory` / `project` / `stack` / `z` / `row_col_zoomlevel.fmt`\n",
    "\n",
    "One other tidbit is that CATMAID annoyingly assumes that sections are 0-indexed so $z_{min}$ is subtracted."
   ]
  },
  {
   "cell_type": "markdown",
   "metadata": {},
   "source": [
    "#### \\*\\****CHANGES LOTS & LOTS OF FILEPATHS ON DISK*** \\**"
   ]
  },
  {
   "cell_type": "code",
   "execution_count": 24,
   "metadata": {},
   "outputs": [],
   "source": [
    "from shutil import rmtree\n",
    "from skimage import io, transform, img_as_ubyte"
   ]
  },
  {
   "cell_type": "code",
   "execution_count": 25,
   "metadata": {},
   "outputs": [
    {
     "data": {
      "application/vnd.jupyter.widget-view+json": {
       "model_id": "f5c71a726f994cec8ae03fb855144689",
       "version_major": 2,
       "version_minor": 0
      },
      "text/plain": [
       "  0%|          | 0/1 [00:00<?, ?it/s]"
      ]
     },
     "metadata": {},
     "output_type": "display_data"
    }
   ],
   "source": [
    "# Iterate through stacks to export\n",
    "for stack in tqdm(stacks_2_export):\n",
    "\n",
    "    # Loop through all the exported tiles per stack\n",
    "    fps = (dir_catmaid / stack).glob(f\"1024x1024/**/[0-9]*.{fmt}\")\n",
    "    for fp in fps:\n",
    "\n",
    "        # Extract tile info from filepath\n",
    "        zoom_level = int(fp.parents[2].name)\n",
    "        z = int(fp.parents[1].name) - int(z_values.min())  # 0-index\n",
    "        row = int(fp.parents[0].name)\n",
    "        col = int(fp.stem)\n",
    "\n",
    "        # Reformat tile\n",
    "        tile_format_1 = dir_catmaid / stack / f\"{z}/{row}_{col}_{zoom_level}.{fmt}\"\n",
    "        tile_format_1.parent.mkdir(parents=True, exist_ok=True)\n",
    "        fp.rename(tile_format_1)\n",
    "\n",
    "    # Clean up (now presumably empty) directory tree\n",
    "    rmtree((dir_catmaid / stack / '1024x1024').as_posix())"
   ]
  },
  {
   "cell_type": "markdown",
   "metadata": {},
   "source": [
    "#### Make thumbnails"
   ]
  },
  {
   "cell_type": "code",
   "execution_count": 26,
   "metadata": {},
   "outputs": [],
   "source": [
    "from icatapi.utils import colorize, T_HOECHST, T_AF594"
   ]
  },
  {
   "cell_type": "code",
   "execution_count": 27,
   "metadata": {},
   "outputs": [
    {
     "data": {
      "application/vnd.jupyter.widget-view+json": {
       "model_id": "461c2acc37ea40e685831dde81bca24d",
       "version_major": 2,
       "version_minor": 0
      },
      "text/plain": [
       "  0%|          | 0/1 [00:00<?, ?it/s]"
      ]
     },
     "metadata": {},
     "output_type": "display_data"
    }
   ],
   "source": [
    "# Colorize settings\n",
    "d_colorize = {\n",
    "    'exc_405nm_T': [[0.2, 0.0, 0.0, 0.0],\n",
    "                    [0.0, 0.2, 0.0, 0.0],\n",
    "                    [0.0, 0.0, 1.0, 0.0],\n",
    "                    [0.0, 0.0, 0.0, 1.0]],\n",
    "    'exc_555nm_T': [[1.0, 0.0, 0.0, 0.0],\n",
    "                    [0.0, 0.6, 0.0, 0.0],\n",
    "                    [0.0, 0.0, 0.0, 0.0],\n",
    "                    [0.0, 0.0, 0.0, 1.0]],\n",
    "}\n",
    "\n",
    "# Loop through stacks to export\n",
    "for stack in tqdm(stacks_2_export):\n",
    "\n",
    "    # Loop through each section\n",
    "    for z in (z_values - z_values.min()):\n",
    "\n",
    "        # Load most zoomed out image (0, 0, `max_level`)\n",
    "        fp = max(dir_catmaid.glob(f\"{stack}/{z:.0f}/0_0_*.{fmt}\"))\n",
    "        zoom = int(fp.stem[-1])\n",
    "        image = io.imread(fp)\n",
    "\n",
    "        # Resize\n",
    "        bounds = renderapi.stack.get_stack_bounds(stack=stack,\n",
    "                                                  render=render)\n",
    "        width_ds = bounds['maxX'] - bounds['minX']  # width of dataset at zoom level 0\n",
    "        width_rs = (192 / (width_ds/2**zoom)) * w_tile\n",
    "        image_rs = transform.resize(image, output_shape=(width_rs, width_rs))\n",
    "        # Crop to content\n",
    "        thumb = image_rs[np.ix_((image_rs > 0).any(1), (image_rs > 0).any(0))]\n",
    "        thumb_rs = transform.resize(thumb, output_shape=(192, 192))\n",
    "        # Colorize\n",
    "        if stack in stacks_FM:\n",
    "            thumb_rs = colorize(thumb_rs, d_colorize[stack])\n",
    "        # Save\n",
    "        fp_thumb = dir_catmaid / f\"{stack}/{z:.0f}/small.{fmt}\"\n",
    "        io.imsave(fp_thumb, img_as_ubyte(thumb_rs))"
   ]
  },
  {
   "cell_type": "markdown",
   "metadata": {},
   "source": [
    "#### Create `project.yaml` file"
   ]
  },
  {
   "cell_type": "code",
   "execution_count": 28,
   "metadata": {},
   "outputs": [],
   "source": [
    "import sys\n",
    "from random import sample\n",
    "from ruamel.yaml import YAML\n",
    "from tifffile import TiffFile\n",
    "from bs4 import BeautifulSoup as Soup\n",
    "import json"
   ]
  },
  {
   "cell_type": "code",
   "execution_count": 35,
   "metadata": {},
   "outputs": [
    {
     "data": {
      "application/vnd.jupyter.widget-view+json": {
       "model_id": "6784e36223ca4059becf4fb7e4f5144a",
       "version_major": 2,
       "version_minor": 0
      },
      "text/plain": [
       "  0%|          | 0/1 [00:00<?, ?it/s]"
      ]
     },
     "metadata": {},
     "output_type": "display_data"
    }
   ],
   "source": [
    "# Set project yaml file\n",
    "project_yaml = dir_catmaid / 'project.yaml'\n",
    "\n",
    "# Collect stack data\n",
    "stack_data = []\n",
    "for stack in tqdm(stacks_2_export):\n",
    "\n",
    "    # Get dimension data\n",
    "    bounds = renderapi.stack.get_stack_bounds(stack=stack,\n",
    "                                              render=render)\n",
    "    dimensions = (int((bounds['maxX'] - bounds['minX']) * 1.1),\n",
    "                  int((bounds['maxY'] - bounds['minY']) * 1.1),\n",
    "                  int(bounds['maxZ'] - bounds['minZ'] + 1))\n",
    "\n",
    "    # Get resolution data (base it off OG EM himag resolution data)\n",
    "    stack_metadata = renderapi.stack.get_full_stack_metadata(stack='corrected',\n",
    "                                                             render=render)\n",
    "    resolution = (np.round(stack_metadata['currentVersion']['stackResolutionX'], 5),\n",
    "                  np.round(stack_metadata['currentVersion']['stackResolutionY'], 5),\n",
    "                  np.round(stack_metadata['currentVersion']['stackResolutionZ'], 5))\n",
    "\n",
    "    # Get metadata\n",
    "    ts = sample(renderapi.tilespec.get_tile_specs_from_stack(stack=stack,\n",
    "                                                             render=render), 1)[0]\n",
    "    fp = ts.ip[0]['imageUrl'].split('.nl')[1]\n",
    "    tif = TiffFile(fp)\n",
    "    metadata = tif.pages[0].description\n",
    "\n",
    "    # Project data for output to project yaml file\n",
    "    stack_datum = {\n",
    "        \"title\": f\"{stack}\",\n",
    "        \"dimension\": f\"{dimensions}\",\n",
    "        \"resolution\": f\"{resolution}\",\n",
    "        \"zoomlevels\": f\"{(maxest_level + 1):.0f}\",\n",
    "        #\"metadata\": metadata,\n",
    "        \"mirrors\": [{\n",
    "            \"title\": f\"{project}_{stack.split('_')[0]}\",\n",
    "            \"tile_width\": 1024,\n",
    "            \"tile_height\": 1024,\n",
    "            \"tile_source_type\": 1,\n",
    "            \"fileextension\": f\"{fmt}\",\n",
    "            \"url\": f\"https://sonic.tnw.tudelft.nl{(dir_catmaid/stack).as_posix()}\"\n",
    "        }]\n",
    "    }\n",
    "    stack_data.append(stack_datum)\n",
    "\n",
    "# Create dict for input into project yaml file\n",
    "project_data = {\n",
    "    \"project\": {\n",
    "        \"title\": f\"{project}\",\n",
    "        \"stacks\": stack_data\n",
    "    }\n",
    "}"
   ]
  },
  {
   "cell_type": "code",
   "execution_count": 36,
   "metadata": {},
   "outputs": [],
   "source": [
    "out = f\"\"\"\\\n",
    "{project_yaml}\n",
    "--------\\\n",
    "\"\"\"\n",
    "print(out)\n",
    "\n",
    "yaml = YAML()\n",
    "yaml.indent(mapping=2, offset=0)\n",
    "yaml.dump(project_data, project_yaml)\n",
    "yaml.dump(project_data, sys.stdout)"
   ]
  },
  {
   "cell_type": "code",
   "execution_count": null,
   "metadata": {},
   "outputs": [],
   "source": []
  }
 ],
 "metadata": {
  "kernelspec": {
   "display_name": "Python 3 (ipykernel)",
   "language": "python",
   "name": "python3"
  },
  "language_info": {
   "codemirror_mode": {
    "name": "ipython",
    "version": 3
   },
   "file_extension": ".py",
   "mimetype": "text/x-python",
   "name": "python",
   "nbconvert_exporter": "python",
   "pygments_lexer": "ipython3",
   "version": "3.9.12"
  }
 },
 "nbformat": 4,
 "nbformat_minor": 4
}
