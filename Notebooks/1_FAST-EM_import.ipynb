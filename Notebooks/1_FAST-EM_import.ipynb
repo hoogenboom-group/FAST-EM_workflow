{
 "cells": [
  {
   "cell_type": "markdown",
   "id": "0ea7fe8d-5763-4bea-8d91-2b7b2ec7ab9b",
   "metadata": {},
   "source": [
    "# FAST-EM import\n",
    "---\n",
    "**Author**: Ryan Lane  \n",
    "**Date**: 6 April 2022\n",
    "\n",
    "#### Overview\n",
    "Quickly imports a FAST-EM project to `render-ws`.\n",
    "\n",
    "Assumes data is stored as\n",
    "\n",
    "Stack | Filepath\n",
    "- | -\n",
    "raw | `/.../asm_service/{date}/{project}/{section}/{row}_{col}_{zoom}.tiff`\n",
    "corrected | `/.../asm_service/{date}/{stack}/{section}/corrected/{row}_{col}_{zoom}.tiff`\n",
    "\n",
    "and outputs mipmaps of each field's pyramidal tiff to\n",
    "\n",
    "Stack | Filepath\n",
    "- | -\n",
    "raw | `/.../{project}/raw/{section}/{row}_{col}/{zoom}.tif`\n",
    "corrected | `/.../{project}/corrected/{section}/{row}_{col}/{zoom}.tif`\n",
    "\n",
    "**Warning**:\n",
    "Check filepath tree carefully before executing."
   ]
  },
  {
   "cell_type": "code",
   "execution_count": 5,
   "id": "827b67c0-e466-46a6-bdb9-a98463ddd2a2",
   "metadata": {},
   "outputs": [
    {
     "ename": "ModuleNotFoundError",
     "evalue": "No module named 'icatapi'",
     "output_type": "error",
     "traceback": [
      "\u001b[0;31m---------------------------------------------------------------------------\u001b[0m",
      "\u001b[0;31mModuleNotFoundError\u001b[0m                       Traceback (most recent call last)",
      "Input \u001b[0;32mIn [5]\u001b[0m, in \u001b[0;36m<cell line: 12>\u001b[0;34m()\u001b[0m\n\u001b[1;32m      9\u001b[0m \u001b[38;5;28;01mfrom\u001b[39;00m \u001b[38;5;21;01mtifffile\u001b[39;00m \u001b[38;5;28;01mimport\u001b[39;00m TiffFile\n\u001b[1;32m     11\u001b[0m \u001b[38;5;28;01mimport\u001b[39;00m \u001b[38;5;21;01mrenderapi\u001b[39;00m\n\u001b[0;32m---> 12\u001b[0m \u001b[38;5;28;01mimport\u001b[39;00m \u001b[38;5;21;01micatapi\u001b[39;00m\n\u001b[1;32m     13\u001b[0m \u001b[38;5;28;01mfrom\u001b[39;00m \u001b[38;5;21;01mrenderapi\u001b[39;00m\u001b[38;5;21;01m.\u001b[39;00m\u001b[38;5;21;01mtransform\u001b[39;00m \u001b[38;5;28;01mimport\u001b[39;00m AffineModel\n",
      "\u001b[0;31mModuleNotFoundError\u001b[0m: No module named 'icatapi'"
     ]
    }
   ],
   "source": [
    "from pathlib import Path\n",
    "import re\n",
    "from ruamel.yaml import YAML\n",
    "\n",
    "from tqdm.notebook import tqdm\n",
    "from bs4 import BeautifulSoup as Soup\n",
    "import numpy as np\n",
    "import pandas as pd\n",
    "from tifffile import TiffFile\n",
    "\n",
    "import renderapi\n",
    "import icatapi\n",
    "from renderapi.transform import AffineModel"
   ]
  },
  {
   "cell_type": "code",
   "execution_count": null,
   "id": "fe0d5109-1c52-4ee0-959e-c62432151c96",
   "metadata": {},
   "outputs": [],
   "source": [
    "# Indirectly enable autocomplete\n",
    "%config Completer.use_jedi = False\n",
    "\n",
    "# pandas display options\n",
    "pd.set_option('display.max_colwidth', 20)"
   ]
  },
  {
   "cell_type": "markdown",
   "id": "9612d950-c3af-49ef-bfb5-e5852ff6fdab",
   "metadata": {},
   "source": [
    "#### Connect to `render-ws`"
   ]
  },
  {
   "cell_type": "code",
   "execution_count": 21,
   "id": "dc4b81ce-1d0b-4f2e-a355-9689b9b01e06",
   "metadata": {},
   "outputs": [
    {
     "data": {
      "text/plain": [
       "{'host': 'http://sonic.tnw.tudelft.nl',\n",
       " 'port': 8080,\n",
       " 'owner': 'akievits',\n",
       " 'project': '20220610_UMCU',\n",
       " 'client_scripts': '/home/catmaid/render/render-ws-java-client/src/main/scripts',\n",
       " 'client_script': '/home/catmaid/render/render-ws-java-client/src/main/scripts/run_ws_client.sh',\n",
       " 'memGB': '2G'}"
      ]
     },
     "execution_count": 21,
     "metadata": {},
     "output_type": "execute_result"
    }
   ],
   "source": [
    "# render parameters\n",
    "owner = 'akievits'\n",
    "date = '2022-06-10'\n",
    "project = '20220610_UMCU'\n",
    "\n",
    "# Create a renderapi.connect.Render object\n",
    "render_connect_params = {\n",
    "    'host': 'sonic.tnw.tudelft.nl',\n",
    "    'port': 8080,\n",
    "    'owner': owner,\n",
    "    'project': project,\n",
    "    'client_scripts': '/home/catmaid/render/render-ws-java-client/src/main/scripts',\n",
    "    'memGB': '2G',\n",
    "}\n",
    "render = renderapi.connect(**render_connect_params)\n",
    "render.make_kwargs()"
   ]
  },
  {
   "cell_type": "markdown",
   "id": "c5cfabca-8aa3-4ebb-80cf-d395f07a2fbf",
   "metadata": {},
   "source": [
    "#### Import and export directories"
   ]
  },
  {
   "cell_type": "code",
   "execution_count": 22,
   "id": "e6669eda-114d-47eb-b88b-a0c4bf29a4ba",
   "metadata": {},
   "outputs": [
    {
     "name": "stdout",
     "output_type": "stream",
     "text": [
      "total 16\n",
      "drwxrwxrwx 3 asmftp asmftp 4096 Jun 10 11:31 EPON_80nm_s001\n",
      "drwxrwxrwx 3 asmftp asmftp 4096 Jun 10 14:51 EPON_80nm_s002\n"
     ]
    }
   ],
   "source": [
    "# Import from\n",
    "dir_FASTEM = Path(f'/long_term_storage/asm_storage/asm_service/{date}/{project}')\n",
    "# Export to\n",
    "dir_project = Path(f\"/long_term_storage/{owner}/FAST-EM/{project}/\")\n",
    "\n",
    "# Stack directory\n",
    "!ls -l $dir_FASTEM"
   ]
  },
  {
   "cell_type": "markdown",
   "id": "c20892ba-43b2-4673-bd81-b49697df7f62",
   "metadata": {},
   "source": [
    "#### Section mapping"
   ]
  },
  {
   "cell_type": "code",
   "execution_count": 23,
   "id": "4bdfa42f-6c50-4af4-b677-771f1422c339",
   "metadata": {},
   "outputs": [
    {
     "data": {
      "text/plain": [
       "{0: 'EPON_80nm_s001', 1: 'EPON_80nm_s002'}"
      ]
     },
     "execution_count": 23,
     "metadata": {},
     "output_type": "execute_result"
    }
   ],
   "source": [
    "# Assume subdirectories of FAST-EM directories are different sections (durr)\n",
    "dir_sections = sorted([dir_ for dir_ in dir_FASTEM.iterdir() if dir_.is_dir()])\n",
    "d_sections = {i: d.name for i, d in enumerate(dir_sections)}\n",
    "d_sections\n",
    "\n",
    "# Drop sections that aren't needed\n",
    "# d_sections.pop(0)\n",
    "# d_sections.pop(1)"
   ]
  },
  {
   "cell_type": "markdown",
   "id": "962d883f-c9b0-4828-82c6-8c06f24c6a5e",
   "metadata": {},
   "source": [
    "## 1) Create mipmaps\n",
    "---\n",
    "\n",
    "#### Filepath layout\n",
    "Mimaps of each FAST-EM field are output to\n",
    "`{dir_project}/{stack}/{sectionId}/{row}_{col}/{zoom}.tif` e.g."
   ]
  },
  {
   "cell_type": "code",
   "execution_count": 25,
   "id": "34ef154b-40f3-4ff5-94bd-2dcd089b4034",
   "metadata": {},
   "outputs": [
    {
     "ename": "ModuleNotFoundError",
     "evalue": "No module named 'fastemworkflow'",
     "output_type": "error",
     "traceback": [
      "\u001b[0;31m---------------------------------------------------------------------------\u001b[0m",
      "\u001b[0;31mModuleNotFoundError\u001b[0m                       Traceback (most recent call last)",
      "Input \u001b[0;32mIn [25]\u001b[0m, in \u001b[0;36m<cell line: 1>\u001b[0;34m()\u001b[0m\n\u001b[0;32m----> 1\u001b[0m \u001b[38;5;28;01mimport\u001b[39;00m \u001b[38;5;21;01mfastemworkflow\u001b[39;00m\n",
      "\u001b[0;31mModuleNotFoundError\u001b[0m: No module named 'fastemworkflow'"
     ]
    }
   ],
   "source": [
    "import fastemworkflow"
   ]
  },
  {
   "cell_type": "code",
   "execution_count": 10,
   "id": "ae0103ad-cc0b-4e33-8d66-e611a48c2edb",
   "metadata": {},
   "outputs": [
    {
     "ename": "ModuleNotFoundError",
     "evalue": "No module named 'fastemworkflow'",
     "output_type": "error",
     "traceback": [
      "\u001b[0;31m---------------------------------------------------------------------------\u001b[0m",
      "\u001b[0;31mModuleNotFoundError\u001b[0m                       Traceback (most recent call last)",
      "Input \u001b[0;32mIn [10]\u001b[0m, in \u001b[0;36m<cell line: 1>\u001b[0;34m()\u001b[0m\n\u001b[0;32m----> 1\u001b[0m \u001b[38;5;28;01mfrom\u001b[39;00m \u001b[38;5;21;01mfastemworkflow\u001b[39;00m\u001b[38;5;21;01m.\u001b[39;00m\u001b[38;5;21;01mimportdata\u001b[39;00m \u001b[38;5;28;01mimport\u001b[39;00m create_mipmaps\n",
      "\u001b[0;31mModuleNotFoundError\u001b[0m: No module named 'fastemworkflow'"
     ]
    }
   ],
   "source": [
    "from fastemworkflow.importdata import create_mipmaps"
   ]
  },
  {
   "cell_type": "markdown",
   "id": "31e0a396-2a0e-45cc-a0db-da77ac6c5a74",
   "metadata": {},
   "source": [
    "#### Raw"
   ]
  },
  {
   "cell_type": "code",
   "execution_count": 91,
   "id": "f4743e34-db4d-4739-b92e-a9142bf7a017",
   "metadata": {},
   "outputs": [
    {
     "data": {
      "application/vnd.jupyter.widget-view+json": {
       "model_id": "c69d7d9f3b0943de850f0c5adcb8e961",
       "version_major": 2,
       "version_minor": 0
      },
      "text/plain": [
       "  0%|          | 0/2 [00:00<?, ?it/s]"
      ]
     },
     "metadata": {},
     "output_type": "display_data"
    },
    {
     "data": {
      "application/vnd.jupyter.widget-view+json": {
       "model_id": "df1aa8601b93455d8147f791974b4e0f",
       "version_major": 2,
       "version_minor": 0
      },
      "text/plain": [
       "  0%|          | 0/121 [00:00<?, ?it/s]"
      ]
     },
     "metadata": {},
     "output_type": "display_data"
    },
    {
     "data": {
      "application/vnd.jupyter.widget-view+json": {
       "model_id": "3ccb9473682b47b8bdc7d3987bcb7634",
       "version_major": 2,
       "version_minor": 0
      },
      "text/plain": [
       "  0%|          | 0/121 [00:00<?, ?it/s]"
      ]
     },
     "metadata": {},
     "output_type": "display_data"
    }
   ],
   "source": [
    "# Loop through section directories\n",
    "for z, dir_section in tqdm(enumerate(dir_sections),\n",
    "                           total=len(dir_sections)):\n",
    "\n",
    "    # Loop through tiffs in each section\n",
    "    for fp in tqdm(list(dir_section.glob('[0-9]*_[0-9]*_0.tiff'))):\n",
    "\n",
    "        # Read tiff\n",
    "        tiff = TiffFile(fp)\n",
    "        # Extract metadata\n",
    "        metadata = {tag.name: tag.value for tag in tiff.pages[0].tags}\n",
    "        # Infer row, col\n",
    "        row, col = [int(i) for i in re.findall(r'\\d+', fp.stem)][:2]\n",
    "\n",
    "        # Set directory to output mipmaps\n",
    "        dir_mipmaps = dir_project / 'raw' / dir_section.name / f\"{row:03d}_{col:03d}\"\n",
    "        dir_mipmaps.mkdir(parents=True, exist_ok=True)\n",
    "        # Create mipmaps\n",
    "        create_mipmaps(tiff, dir_mipmaps, metadata)    "
   ]
  },
  {
   "cell_type": "markdown",
   "id": "0f28e17e-5b0f-4883-a334-de235b9bbdeb",
   "metadata": {},
   "source": [
    "#### Corrected"
   ]
  },
  {
   "cell_type": "code",
   "execution_count": null,
   "id": "5d95e5d3-04f0-4a35-91d5-70259420a959",
   "metadata": {},
   "outputs": [
    {
     "data": {
      "application/vnd.jupyter.widget-view+json": {
       "model_id": "aac79cde9d2b433e89da4ee70f8a6ec8",
       "version_major": 2,
       "version_minor": 0
      },
      "text/plain": [
       "  0%|          | 0/2 [00:00<?, ?it/s]"
      ]
     },
     "metadata": {},
     "output_type": "display_data"
    },
    {
     "data": {
      "application/vnd.jupyter.widget-view+json": {
       "model_id": "1e493b4c3dfa4b80bf9a677bf28cd8ee",
       "version_major": 2,
       "version_minor": 0
      },
      "text/plain": [
       "  0%|          | 0/121 [00:00<?, ?it/s]"
      ]
     },
     "metadata": {},
     "output_type": "display_data"
    }
   ],
   "source": [
    "# Loop through section directories\n",
    "for z, dir_section in tqdm(enumerate(dir_sections),\n",
    "                           total=len(dir_sections)):\n",
    "\n",
    "    # Loop through tiffs in each section\n",
    "    for fp in tqdm(list(dir_section.glob('corrected/[0-9]*_[0-9]*_0.tiff'))):\n",
    "\n",
    "        # Read tiff\n",
    "        tiff = TiffFile(fp)\n",
    "        # Extract metadata\n",
    "        metadata = {tag.name: tag.value for tag in tiff.pages[0].tags}\n",
    "        # Infer row, col\n",
    "        row, col = [int(i) for i in re.findall(r'\\d+', fp.stem)[:2]]\n",
    "\n",
    "        # Set directory to output mipmaps\n",
    "        dir_mipmaps = dir_project / 'corrected' / dir_section.name / f\"{row:03d}_{col:03d}\"\n",
    "        dir_mipmaps.mkdir(parents=True, exist_ok=True)\n",
    "        # Create mipmaps\n",
    "        create_mipmaps(tiff, dir_mipmaps, metadata)    "
   ]
  },
  {
   "cell_type": "markdown",
   "id": "4f45ddd7-554a-40f1-bf4b-a2317a432ba0",
   "metadata": {},
   "source": [
    "## 2) Create tile specifications\n",
    "---\n",
    "\n",
    "#### Filepath layout\n",
    "Reminder that mimaps of each FAST-EM field are output to\n",
    "`{dir_project}/{stack}/{sectionId}/{row}_{col}/{zoom}.tif`"
   ]
  },
  {
   "cell_type": "code",
   "execution_count": null,
   "id": "25e8b7b7-43f2-4c3a-b87d-a33ab51f2da5",
   "metadata": {},
   "outputs": [],
   "source": [
    "import json\n",
    "from renderapi.image_pyramid import ImagePyramid, MipMapLevel"
   ]
  },
  {
   "cell_type": "code",
   "execution_count": null,
   "id": "7a045e86-fc06-49c3-8907-0e366117f425",
   "metadata": {},
   "outputs": [],
   "source": [
    "# Parameters\n",
    "overlap = 10  # % -- guess\n",
    "\n",
    "# Collect tile specifications\n",
    "tile_dicts = []\n",
    "# Loop through stack directories\n",
    "for dir_stack in tqdm(list(dir_project.iterdir())):\n",
    "    # Set stack name ('raw' or 'corrected')\n",
    "    stack = dir_stack.name\n",
    "\n",
    "    # Loop through section directories\n",
    "    for z, sectionId in tqdm(d_sections.items()):\n",
    "\n",
    "        # Loop through mipmap directories within each section\n",
    "        dir_section = dir_stack / sectionId\n",
    "        for dir_mipmap in tqdm(list(dir_section.glob('[0-9]*_[0-9]*')),\n",
    "                               leave=False):\n",
    "\n",
    "            # Read base-level tiff\n",
    "            fp = dir_mipmap / '0.tif'\n",
    "            tiff = TiffFile(fp)\n",
    "            # Parse tiff tags for metadata\n",
    "            md = json.loads(tiff.pages[0].description)\n",
    "            # Infer row, col\n",
    "            row, col = [int(i) for i in re.findall(r'\\d+', fp.parent.name)[:2]]\n",
    "            # Set translation based on overlap guess\n",
    "            x0 = col * (1 - overlap/100) * md['ImageWidth']\n",
    "            y0 = row * (1 - overlap/100) * md['ImageLength']\n",
    "\n",
    "            # Create nested MipMapLevels\n",
    "            mmls = []\n",
    "            for mmfp in sorted(dir_mipmap.glob('[0-9].tif')):\n",
    "                level = mmfp.stem\n",
    "                imageUrl = f\"https://sonic.tnw.tudelft.nl{mmfp.as_posix()}\"\n",
    "                mml = MipMapLevel(level, imageUrl=imageUrl)\n",
    "                mmls.append(mml)\n",
    "            # Create ImagePyramid from MipMapLevels\n",
    "            ip = ImagePyramid({m.level: m.mipmap for m in mmls})\n",
    "\n",
    "            # Handle missing DateTime metadata in corrected tiffs\n",
    "            try:\n",
    "                acqtime = pd.to_datetime(md['DateTime'])\n",
    "            except KeyError:\n",
    "                acqtime = -1\n",
    "\n",
    "            # Build up tile specification\n",
    "            ts = {}\n",
    "            ts['stack'] = stack\n",
    "            ts['sectionId'] = sectionId\n",
    "            ts['z'] = z\n",
    "            ts['tileId'] = f'{stack[:3]}-S{z:03d}-{row:03d}x{col:03d}'\n",
    "            ts['acqtime'] = acqtime\n",
    "            ts['width'] = md['ImageWidth']\n",
    "            ts['height'] = md['ImageLength']\n",
    "            ts['imageRow'] = row\n",
    "            ts['imageCol'] = col\n",
    "            ts['imagePyramid'] = ip\n",
    "            ts['minint'] = 0\n",
    "            ts['maxint'] = 65535\n",
    "            ts['tforms'] = [AffineModel(B0=x0, B1=y0)]\n",
    "            tile_dicts.append(ts)"
   ]
  },
  {
   "cell_type": "markdown",
   "id": "b1992e6e-9ae6-43a1-94d2-43c623e005ea",
   "metadata": {},
   "source": [
    "#### Create stack DataFrames"
   ]
  },
  {
   "cell_type": "code",
   "execution_count": null,
   "id": "ae9e3bee-f666-446c-a049-7a51ffd821e3",
   "metadata": {},
   "outputs": [],
   "source": [
    "# Create DataFrame from list of tile specifications\n",
    "df_stacks = pd.DataFrame(tile_dicts)\n",
    "\n",
    "# Sneak peak\n",
    "df_stacks.groupby('stack')\\\n",
    "         .apply(lambda x: x.sample(3))"
   ]
  },
  {
   "cell_type": "markdown",
   "id": "6720b5d5-a78d-4705-b38b-fc9c4dffda3b",
   "metadata": {},
   "source": [
    "### Set intensity levels\n",
    "Sample `n` images/section to determine reasonable min/max intensity values."
   ]
  },
  {
   "cell_type": "code",
   "execution_count": null,
   "id": "7bc7fe56-3b58-4f43-b97a-7758b232a137",
   "metadata": {},
   "outputs": [],
   "source": [
    "# Set parameters\n",
    "n = 10          # sample size (per section)\n",
    "pcts = (1, 99)  # % for intensity clipping\n",
    "stacks = df_stacks['stack'].unique().tolist()\n",
    "z_values = df_stacks['z'].unique().tolist()\n",
    "\n",
    "# Loop through stacks\n",
    "for stack, df_stack in tqdm(df_stacks.groupby('stack'),\n",
    "                            total=len(stacks)):\n",
    "\n",
    "    # Loop through sections\n",
    "    for z, tileset in tqdm(df_stack.groupby('z'),\n",
    "                           total=len(z_values),\n",
    "                           leave=False):\n",
    "\n",
    "        # Sample filepaths\n",
    "        fps = tileset.sample(n)['imagePyramid']\\\n",
    "                      .apply(lambda x: x[0]['imageUrl'])\\\n",
    "                      .tolist()\n",
    "\n",
    "        # Collect min/max intensity values\n",
    "        minints = []\n",
    "        maxints = []\n",
    "        # Loop through sample tiles\n",
    "        for fp in tqdm(fps, leave=False):\n",
    "\n",
    "            # Load tiff image\n",
    "            fp_tiff = fp.split('.nl')[1]\n",
    "            tiff = TiffFile(fp_tiff)\n",
    "            image = tiff.asarray()\n",
    "\n",
    "            # Get intensity percentiles\n",
    "            minint, maxint = np.percentile(image, pcts)\n",
    "            minints.append(minint)\n",
    "            maxints.append(maxint)\n",
    "\n",
    "        # Set min/max intensity\n",
    "        df_stacks.loc[(df_stacks['stack'] == stack) &\\\n",
    "                      (df_stacks['z'] == z), 'minint'] = np.mean(minints, dtype=int)\n",
    "        df_stacks.loc[(df_stacks['stack'] == stack) &\\\n",
    "                      (df_stacks['z'] == z), 'maxint'] = np.mean(maxints, dtype=int)\n",
    "\n",
    "# Sneak peak\n",
    "df_stacks.groupby('stack')\\\n",
    "         .apply(lambda x: x.sample(4))"
   ]
  },
  {
   "cell_type": "markdown",
   "id": "f3d06366-a709-44c5-a064-670c09fad158",
   "metadata": {},
   "source": [
    "## 3) Upload stack to `render-ws`\n",
    "---"
   ]
  },
  {
   "cell_type": "code",
   "execution_count": null,
   "id": "d4d4c545-f1a6-4d47-8c8f-63bcc2d38870",
   "metadata": {},
   "outputs": [],
   "source": [
    "from renderapi.render import get_stacks_by_owner_project\n",
    "from renderapi.tilespec import TileSpec, get_tile_specs_from_stack\n",
    "from renderapi.stack import create_stack, set_stack_state\n",
    "from renderapi.client import import_tilespecs"
   ]
  },
  {
   "cell_type": "code",
   "execution_count": null,
   "id": "b0a177a2-c671-4125-bfa4-b58c4a2e76c6",
   "metadata": {},
   "outputs": [],
   "source": [
    "def upload_stack_DataFrame(df, render, name=None,\n",
    "                           stackResolutionX=None,\n",
    "                           stackResolutionY=None,\n",
    "                           stackResolutionZ=None):\n",
    "    \"\"\"Creates a `render-ws` stack from given DataFrame\n",
    "\n",
    "    Parameters\n",
    "    ----------\n",
    "    df : `pd.DataFrame`\n",
    "        DataFrame of tile data\n",
    "    render : `renderapi.render.RenderClient`\n",
    "        `render-ws` instance\n",
    "    name : str\n",
    "        Name of stack\n",
    "        Looks for 'stack' column in `df` if not provided\n",
    "    \"\"\"\n",
    "    # Set stack name\n",
    "    if name is None:\n",
    "        stack = df.iloc[0]['stack']\n",
    "    else:\n",
    "        stack = name\n",
    "\n",
    "    # Loop through tiles\n",
    "    out = f\"Creating tile specifications for \\033[1m{stack}\\033[0m...\"\n",
    "    print(out)\n",
    "    tile_specs = []\n",
    "    for i, tile in df.iterrows():\n",
    "        # Create `TileSpec`s\n",
    "        ts = TileSpec(**tile.to_dict())\n",
    "        # Ensure integer min, max intensity\n",
    "        ts.minint = int(tile['minint'])\n",
    "        ts.maxint = int(tile['maxint'])\n",
    "        # Collect `TileSpec`s\n",
    "        tile_specs.append(ts)\n",
    "\n",
    "    # Create stack\n",
    "    create_stack(stack=stack,\n",
    "                 stackResolutionX=stackResolutionX,\n",
    "                 stackResolutionY=stackResolutionY,\n",
    "                 stackResolutionZ=stackResolutionZ,\n",
    "                 render=render)\n",
    "\n",
    "    # Import TileSpecs to render\n",
    "    out = f\"Importing tile specifications to \\033[1m{stack}\\033[0m...\"\n",
    "    print(out)\n",
    "    import_tilespecs(stack=stack,\n",
    "                     tilespecs=tile_specs,\n",
    "                     render=render)\n",
    "\n",
    "    # Close stack\n",
    "    set_stack_state(stack=stack,\n",
    "                    state='COMPLETE',\n",
    "                    render=render)\n",
    "    out = f\"Stack \\033[1m{stack}\\033[0m created successfully.\"\n",
    "    print(out)"
   ]
  },
  {
   "cell_type": "code",
   "execution_count": null,
   "id": "7c8b4065-8864-4baa-9bec-8b2061fc323b",
   "metadata": {},
   "outputs": [],
   "source": [
    "# Loop through stacks\n",
    "for stack, df_stack in tqdm(df_stacks.groupby('stack')):\n",
    "\n",
    "    # Set stack resolution\n",
    "    Rx = 4\n",
    "    Ry = 4\n",
    "    Rz = 100\n",
    "\n",
    "    # Create stacks\n",
    "    upload_stack_DataFrame(df=df_stack,\n",
    "                           name=stack,\n",
    "                           stackResolutionX=Rx,\n",
    "                           stackResolutionY=Ry,\n",
    "                           stackResolutionZ=Rz,\n",
    "                           render=render)"
   ]
  },
  {
   "cell_type": "markdown",
   "id": "b995fa20-581f-4925-ab70-bf62415612a0",
   "metadata": {},
   "source": [
    "#### Inspect"
   ]
  },
  {
   "cell_type": "code",
   "execution_count": null,
   "id": "771f7291-35cb-4db1-947a-f09eec3355e2",
   "metadata": {},
   "outputs": [],
   "source": [
    "icatapi.plot_tile_map(stacks,\n",
    "                      render=render)"
   ]
  },
  {
   "cell_type": "markdown",
   "id": "e63cdc2c-dfe9-42df-97db-9636c1a1c8e8",
   "metadata": {},
   "source": [
    "## 4) Montage\n",
    "---\n",
    "\n",
    "Parse transformation data from `.../corrected/montage.xml` file."
   ]
  },
  {
   "cell_type": "code",
   "execution_count": null,
   "id": "cfbc3ef5-40cb-4110-bc01-2f62397272fa",
   "metadata": {},
   "outputs": [],
   "source": [
    "# Initialize stacks DataFrame\n",
    "df_stacks = pd.DataFrame()\n",
    "\n",
    "# Loop through stacks\n",
    "for stack in tqdm(stacks):\n",
    "\n",
    "    # Create stack DataFrame\n",
    "    df_stack = icatapi.create_stack_DataFrame(stack=stack,\n",
    "                                              render=render)\n",
    "    # Edit stack name\n",
    "    df_stack['stack'] = stack + '_montaged'\n",
    "\n",
    "    # Loop through section directories\n",
    "    for z, dir_section in enumerate(dir_sections):\n",
    "\n",
    "        # Parse montage.xml file\n",
    "        fp = dir_section / 'corrected/montage.xml'\n",
    "        soup = Soup(fp.read_text(), 'lxml')\n",
    "\n",
    "        # Loop through \"patches\"\n",
    "        for patch in soup.find_all('t2_patch'):\n",
    "\n",
    "            # Parse transform data\n",
    "            M00, M10, M01, M11, B0, B1 = [float(i) for i in re.findall(\n",
    "                r'-?[\\d.]+(?:[Ee]-?\\d+)?', patch['transform'])]\n",
    "            A = AffineModel(M00, M01, M10, M11, B0, B1)\n",
    "\n",
    "            # Infer stack index\n",
    "            row, col = [int(i) for i in patch['title'].split('_')[:2]]\n",
    "            i = df_stack.loc[(df_stack['z'] == z) &\\\n",
    "                             (df_stack['imageRow'] == row) &\\\n",
    "                             (df_stack['imageCol'] == col)].index.item()\n",
    "            df_stack.at[i, 'tforms'] = [A]\n",
    "\n",
    "    # \n",
    "    df_stacks = pd.concat([df_stacks, df_stack])\n",
    "\n",
    "# Sneak peak\n",
    "df_stacks.groupby('stack')\\\n",
    "         .apply(lambda x: x.sample(4))"
   ]
  },
  {
   "cell_type": "markdown",
   "id": "63fb5713-b1c9-4bee-a68d-1165b5204af8",
   "metadata": {},
   "source": [
    "#### Upload montage stacks"
   ]
  },
  {
   "cell_type": "code",
   "execution_count": null,
   "id": "e1cddaa2-dfde-49fd-ac2e-fa263be0e8be",
   "metadata": {},
   "outputs": [],
   "source": [
    "# Loop through stacks\n",
    "for stack, df_stack in tqdm(df_stacks.groupby('stack')):\n",
    "\n",
    "    # Set stack resolution\n",
    "    Rx = 4\n",
    "    Ry = 4\n",
    "    Rz = 100\n",
    "\n",
    "    # Create stacks\n",
    "    upload_stack_DataFrame(df=df_stack,\n",
    "                           name=stack,\n",
    "                           stackResolutionX=Rx,\n",
    "                           stackResolutionY=Ry,\n",
    "                           stackResolutionZ=Rz,\n",
    "                           render=render)"
   ]
  },
  {
   "cell_type": "markdown",
   "id": "6198ade4-2640-48fd-9e67-222d7df1944d",
   "metadata": {},
   "source": [
    "#### Inspect"
   ]
  },
  {
   "cell_type": "code",
   "execution_count": null,
   "id": "bec1b0d1-6966-42d3-a8ab-fe3e6cc9cdb6",
   "metadata": {},
   "outputs": [],
   "source": [
    "stacks_2_plot = renderapi.render.get_stacks_by_owner_project(render=render)\n",
    "icatapi.plot_tile_map(stacks_2_plot,\n",
    "                      render=render)"
   ]
  },
  {
   "cell_type": "code",
   "execution_count": null,
   "id": "4f112052-fdfe-430a-87f9-92874f5e9fb5",
   "metadata": {},
   "outputs": [],
   "source": [
    "icatapi.plot_stacks(stacks_2_plot,\n",
    "                    maxTileSpecsToRender=1000,\n",
    "                    render=render)"
   ]
  }
 ],
 "metadata": {
  "kernelspec": {
   "display_name": "Python 3 (ipykernel)",
   "language": "python",
   "name": "python3"
  },
  "language_info": {
   "codemirror_mode": {
    "name": "ipython",
    "version": 3
   },
   "file_extension": ".py",
   "mimetype": "text/x-python",
   "name": "python",
   "nbconvert_exporter": "python",
   "pygments_lexer": "ipython3",
   "version": "3.9.13"
  }
 },
 "nbformat": 4,
 "nbformat_minor": 5
}
